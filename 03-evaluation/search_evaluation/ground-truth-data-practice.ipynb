{
 "cells": [
  {
   "cell_type": "code",
   "execution_count": 17,
   "id": "3ac7c03d-6c63-4e68-ac37-d7f003b89ddc",
   "metadata": {},
   "outputs": [],
   "source": [
    "import requests"
   ]
  },
  {
   "cell_type": "code",
   "execution_count": 18,
   "id": "18f53822-886c-4e9a-a9a5-5a0a53af29cf",
   "metadata": {},
   "outputs": [],
   "source": [
    "docs_url = 'https://github.com/DataTalksClub/llm-zoomcamp/blob/main/01-intro/documents.json?raw=1'\n",
    "docs_response = requests.get(docs_url)\n",
    "documents_raw = docs_response.json()\n",
    "\n",
    "documents = []\n",
    "\n",
    "for course in documents_raw:\n",
    "    course_name = course['course']\n",
    "\n",
    "    for doc in course['documents']:\n",
    "        doc['course'] = course_name\n",
    "        documents.append(doc)"
   ]
  },
  {
   "cell_type": "code",
   "execution_count": 19,
   "id": "f1957b03-cf4a-4ada-aaf5-dc5300631ebd",
   "metadata": {},
   "outputs": [
    {
     "data": {
      "text/plain": [
       "{'text': \"The purpose of this document is to capture frequently asked technical questions\\nThe exact day and hour of the course will be 15th Jan 2024 at 17h00. The course will start with the first  “Office Hours'' live.1\\nSubscribe to course public Google Calendar (it works from Desktop only).\\nRegister before the course starts using this link.\\nJoin the course Telegram channel with announcements.\\nDon’t forget to register in DataTalks.Club's Slack and join the channel.\",\n",
       " 'section': 'General course-related questions',\n",
       " 'question': 'Course - When will the course start?',\n",
       " 'course': 'data-engineering-zoomcamp'}"
      ]
     },
     "execution_count": 19,
     "metadata": {},
     "output_type": "execute_result"
    }
   ],
   "source": [
    "documents[0]"
   ]
  },
  {
   "cell_type": "code",
   "execution_count": 20,
   "id": "fac08ce6-15cd-4c53-ab98-35387ad8664e",
   "metadata": {},
   "outputs": [],
   "source": [
    "import hashlib"
   ]
  },
  {
   "cell_type": "code",
   "execution_count": 21,
   "id": "23397b48-5fcb-4a9d-ae9c-6628fda6d16c",
   "metadata": {},
   "outputs": [],
   "source": [
    "def generate_document_id(doc:dict) -> str:\n",
    "    \"\"\"Function to take dictionary and return dictionary\"\"\"\n",
    "\n",
    "    combined_string = f\"{doc['section']}-{doc[\"course\"]}-{doc['question']}-{doc['text'][:16]}\"\n",
    "    generated_hash = hashlib.md5(combined_string.encode())\n",
    "    stored_hash = generated_hash.hexdigest()[:16]\n",
    "    return stored_hash"
   ]
  },
  {
   "cell_type": "code",
   "execution_count": 40,
   "id": "558e6eb2-889e-4e11-8233-04ed6e522f7a",
   "metadata": {},
   "outputs": [],
   "source": [
    "documents_updated = [{**doc, \"document_id\": generate_document_id(doc)} for doc in documents]"
   ]
  },
  {
   "cell_type": "code",
   "execution_count": 42,
   "id": "4e826006-6181-4d11-983d-dde23b71f5e3",
   "metadata": {},
   "outputs": [],
   "source": [
    "from collections import defaultdict"
   ]
  },
  {
   "cell_type": "code",
   "execution_count": 45,
   "id": "4f2463f3-3e66-473c-91d7-a77113f1eee4",
   "metadata": {},
   "outputs": [],
   "source": [
    "hashes = defaultdict(list)\n",
    "\n",
    "for doc in documents_updated:\n",
    "    doc_id = doc['document_id']\n",
    "    hashes[doc_id].append(doc)"
   ]
  },
  {
   "cell_type": "code",
   "execution_count": 46,
   "id": "5b9cfb9a-9bb8-4d06-a895-9cff48112045",
   "metadata": {},
   "outputs": [
    {
     "data": {
      "text/plain": [
       "(948, 947)"
      ]
     },
     "execution_count": 46,
     "metadata": {},
     "output_type": "execute_result"
    }
   ],
   "source": [
    "len(documents), len(hashes)"
   ]
  },
  {
   "cell_type": "code",
   "execution_count": 49,
   "id": "36f82993-46bc-48d7-856a-cecd9f93b083",
   "metadata": {},
   "outputs": [
    {
     "name": "stdout",
     "output_type": "stream",
     "text": [
      "406267ecd3b4eb48 2\n"
     ]
    }
   ],
   "source": [
    "for k, values in hashes.items():\n",
    "    if len(values) > 1:\n",
    "        print(k, len(values))"
   ]
  },
  {
   "cell_type": "code",
   "execution_count": 50,
   "id": "21c578a4-c26a-469d-9db6-e0baf20b084b",
   "metadata": {},
   "outputs": [
    {
     "data": {
      "text/plain": [
       "[{'text': \"They both do the same, it's just less typing from the script.\\nAsked by Andrew Katoch, Added by Edidiong Esu\",\n",
       "  'section': '6. Decision Trees and Ensemble Learning',\n",
       "  'question': 'Does it matter if we let the Python file create the server or if we run gunicorn directly?',\n",
       "  'course': 'machine-learning-zoomcamp',\n",
       "  'document_id': '406267ecd3b4eb48'},\n",
       " {'text': \"They both do the same, it's just less typing from the script.\",\n",
       "  'section': '6. Decision Trees and Ensemble Learning',\n",
       "  'question': 'Does it matter if we let the Python file create the server or if we run gunicorn directly?',\n",
       "  'course': 'machine-learning-zoomcamp',\n",
       "  'document_id': '406267ecd3b4eb48'}]"
      ]
     },
     "execution_count": 50,
     "metadata": {},
     "output_type": "execute_result"
    }
   ],
   "source": [
    "hashes['406267ecd3b4eb48']"
   ]
  },
  {
   "cell_type": "code",
   "execution_count": 51,
   "id": "8233284c-e691-48b0-afac-f03dd774ceb9",
   "metadata": {},
   "outputs": [],
   "source": [
    "import json"
   ]
  },
  {
   "cell_type": "code",
   "execution_count": 52,
   "id": "b63acc28-2042-49a2-806a-29803195799d",
   "metadata": {},
   "outputs": [],
   "source": [
    "with open('documents-with-ids-updated.json', 'wt') as f_out:\n",
    "    json.dump(documents_updated, f_out, indent=2)"
   ]
  },
  {
   "cell_type": "code",
   "execution_count": 53,
   "id": "e6170bdf-8614-4ef7-907d-97d1dcecf880",
   "metadata": {},
   "outputs": [
    {
     "name": "stdout",
     "output_type": "stream",
     "text": [
      "[\n",
      "  {\n",
      "    \"text\": \"The purpose of this document is to capture frequently asked technical questions\\nThe exact day and hour of the course will be 15th Jan 2024 at 17h00. The course will start with the first  \\u201cOffice Hours'' live.1\\nSubscribe to course public Google Calendar (it works from Desktop only).\\nRegister before the course starts using this link.\\nJoin the course Telegram channel with announcements.\\nDon\\u2019t forget to register in DataTalks.Club's Slack and join the channel.\",\n",
      "    \"section\": \"General course-related questions\",\n",
      "    \"question\": \"Course - When will the course start?\",\n",
      "    \"course\": \"data-engineering-zoomcamp\",\n",
      "    \"document_id\": \"12ba9d1bc6ca27c5\"\n",
      "  },\n",
      "  {\n",
      "    \"text\": \"GitHub - DataTalksClub data-engineering-zoomcamp#prerequisites\",\n"
     ]
    }
   ],
   "source": [
    "!head documents-with-ids-updated.json"
   ]
  },
  {
   "cell_type": "code",
   "execution_count": 54,
   "id": "21174d71-88c1-4ae8-9361-b60832759062",
   "metadata": {},
   "outputs": [],
   "source": [
    "prompt_template = \"\"\"\n",
    "You emulate a student who's taking our course and asking questions about the course.\n",
    "Formulate 5 similar questions this student might ask based on a FAQ record which will be shared a json. The record\n",
    "should contain the answer to the questions, and the questions should be complete and not too short.\n",
    "If possible, use as fewer words as possible from the record. The question generated must be relevant to the existing answer.\n",
    "\n",
    "The record:\n",
    "\n",
    "section: {section}\n",
    "question: {question}\n",
    "answer: {text}\n",
    "course: {course}\n",
    "\n",
    "Provide the output in parsable JSON without using code blocks:\n",
    "\n",
    "[\"question1\", \"question2\", ..., \"question5\"]\n",
    "\"\"\".strip()"
   ]
  },
  {
   "cell_type": "code",
   "execution_count": 61,
   "id": "2cb1c1d3-341f-42da-9272-19e0da6bfd77",
   "metadata": {},
   "outputs": [],
   "source": [
    "from openai import OpenAI\n",
    "from openai import RateLimitError\n",
    "import time"
   ]
  },
  {
   "cell_type": "code",
   "execution_count": 56,
   "id": "d489c71a-5d96-4279-ae2a-0a294e9382af",
   "metadata": {},
   "outputs": [],
   "source": [
    "client = OpenAI()"
   ]
  },
  {
   "cell_type": "code",
   "execution_count": 67,
   "id": "99942d5c-30a3-4e58-b46d-f0581f2982f3",
   "metadata": {},
   "outputs": [],
   "source": [
    "def generate_questions(doc, max_retries=5, initial_delay=1):\n",
    "    delay = initial_delay\n",
    "    prompt = prompt_template.format(**doc)\n",
    "    for i in range(max_retries):\n",
    "        try:\n",
    "            response = client.chat.completions.create(\n",
    "                model='gpt-4o-mini',\n",
    "                messages=[{\"role\": \"user\", \"content\": prompt}]\n",
    "            )\n",
    "        \n",
    "            json_response = response.choices[0].message.content\n",
    "            break\n",
    "        except RateLimitError:\n",
    "            time.delay((i+1)*delay)\n",
    "            delay*=2\n",
    "        except Exception as e:\n",
    "            print(f\"Unpexpected error {e}\")\n",
    "            break\n",
    "        \n",
    "    return json_response"
   ]
  },
  {
   "cell_type": "code",
   "execution_count": 68,
   "id": "45d9b0d9-f231-4798-8ed8-8207bcad302a",
   "metadata": {},
   "outputs": [],
   "source": [
    "from tqdm.auto import tqdm"
   ]
  },
  {
   "cell_type": "code",
   "execution_count": 69,
   "id": "b7ca8826-6e8e-4625-9a4a-816cd2375286",
   "metadata": {},
   "outputs": [],
   "source": [
    "results = {}"
   ]
  },
  {
   "cell_type": "code",
   "execution_count": 70,
   "id": "5c8418b3-7e41-4056-8be5-891bfe24430c",
   "metadata": {},
   "outputs": [
    {
     "data": {
      "application/vnd.jupyter.widget-view+json": {
       "model_id": "f6abe54da9fc46939135ce311010c840",
       "version_major": 2,
       "version_minor": 0
      },
      "text/plain": [
       "  0%|          | 0/948 [00:00<?, ?it/s]"
      ]
     },
     "metadata": {},
     "output_type": "display_data"
    }
   ],
   "source": [
    "for doc in tqdm(documents_updated):\n",
    "    doc_id = doc['document_id']\n",
    "    if doc_id in results:\n",
    "        continue\n",
    "    questions = generate_questions(doc)\n",
    "    results[doc_id] = questions"
   ]
  },
  {
   "cell_type": "code",
   "execution_count": 1,
   "id": "4de12521-40b9-47a9-bd1b-22318ea1b712",
   "metadata": {},
   "outputs": [],
   "source": [
    "import re"
   ]
  },
  {
   "cell_type": "code",
   "execution_count": 102,
   "id": "2573798c-8feb-4b52-8643-73441dc8d9b6",
   "metadata": {},
   "outputs": [],
   "source": [
    "results_clean = {}\n",
    "for k, v in results.items():\n",
    "    clean_string = re.sub(r'[^a-zA-Z0-9,?\\s]', '', v).strip()\n",
    "    results_clean[k] = [i.strip() for i in clean_string.strip().split(\",\\n\")]"
   ]
  },
  {
   "cell_type": "code",
   "execution_count": 104,
   "id": "47195e02-fc39-485b-bcb8-9d83fe33cfc3",
   "metadata": {},
   "outputs": [],
   "source": [
    "import pickle"
   ]
  },
  {
   "cell_type": "code",
   "execution_count": 110,
   "id": "f1e84a06-6ddb-4903-9e18-ac866fee7610",
   "metadata": {},
   "outputs": [],
   "source": [
    "with open('results_practice.bin', 'wb') as f_out:\n",
    "    pickle.dump(results_clean, f_out)"
   ]
  },
  {
   "cell_type": "code",
   "execution_count": 111,
   "id": "6baf400c-1dac-4427-9bbb-c2645da32d19",
   "metadata": {},
   "outputs": [],
   "source": [
    "with open('results_practice.bin', 'rb') as f_in:\n",
    "    results_data = pickle.load(f_in)"
   ]
  },
  {
   "cell_type": "code",
   "execution_count": 115,
   "id": "e9ff09ef-f12f-46ed-bbb8-cb0e5fe11e4d",
   "metadata": {},
   "outputs": [],
   "source": [
    "final_resuls = []\n",
    "for doc_id, questions in results_data.items():\n",
    "    course = hashes[doc_id][0]['course']\n",
    "    for q in questions:\n",
    "        final_resuls.append((q, course, doc_id))"
   ]
  },
  {
   "cell_type": "code",
   "execution_count": 116,
   "id": "3de11b04-b563-4673-bf3c-4c4a428fda48",
   "metadata": {},
   "outputs": [],
   "source": [
    "import pandas as pd"
   ]
  },
  {
   "cell_type": "code",
   "execution_count": 117,
   "id": "df1b11c7-910f-4c3d-ab01-76439cb823e1",
   "metadata": {},
   "outputs": [],
   "source": [
    "df = pd.DataFrame(data=final_resuls, columns=['question', 'course', 'document'])\n",
    "df.to_csv('ground-truth-data-practice.csv', index=False)"
   ]
  }
 ],
 "metadata": {
  "kernelspec": {
   "display_name": "Python 3 (ipykernel)",
   "language": "python",
   "name": "python3"
  },
  "language_info": {
   "codemirror_mode": {
    "name": "ipython",
    "version": 3
   },
   "file_extension": ".py",
   "mimetype": "text/x-python",
   "name": "python",
   "nbconvert_exporter": "python",
   "pygments_lexer": "ipython3",
   "version": "3.12.9"
  }
 },
 "nbformat": 4,
 "nbformat_minor": 5
}
