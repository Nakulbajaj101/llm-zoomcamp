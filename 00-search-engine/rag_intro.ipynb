{
 "cells": [
  {
   "cell_type": "code",
   "execution_count": 1,
   "id": "9acea3da-1ff2-4d6b-977c-5a2ec555ff17",
   "metadata": {},
   "outputs": [],
   "source": [
    "import minsearch\n",
    "import json"
   ]
  },
  {
   "cell_type": "code",
   "execution_count": 2,
   "id": "cc34da1a-79a0-4ad8-a1b5-3f9f0a25beeb",
   "metadata": {},
   "outputs": [],
   "source": [
    "docs_raw = []\n",
    "documents = []\n",
    "filenames = [\"documents.json\", \"documents-llm.json\"]\n",
    "for file in filenames:\n",
    "    with open(f\"../01-intro/{file}\", \"rt\") as f_in:\n",
    "        docs_raw = json.load(f_in)\n",
    "    for course_dict in docs_raw:\n",
    "        for doc in course_dict['documents']:\n",
    "            doc['course'] = course_dict['course']\n",
    "            documents.append(doc)"
   ]
  },
  {
   "cell_type": "code",
   "execution_count": 3,
   "id": "99297f71-3fa9-4c22-bb23-8d594d30bad9",
   "metadata": {},
   "outputs": [
    {
     "data": {
      "text/plain": [
       "<minsearch.minsearch.Index at 0x109645e50>"
      ]
     },
     "execution_count": 3,
     "metadata": {},
     "output_type": "execute_result"
    }
   ],
   "source": [
    "# Adding the minsearch\n",
    "index = minsearch.Index(\n",
    "    text_fields=[\"question\", \"text\", \"section\"],\n",
    "    keyword_fields=[\"course\"]\n",
    ")\n",
    "index.fit(documents)"
   ]
  },
  {
   "cell_type": "code",
   "execution_count": 4,
   "id": "e1255fc5-8a6a-4f24-9a1a-30724bae7b09",
   "metadata": {},
   "outputs": [],
   "source": [
    "query = \"The course has started, can I still enrol?\""
   ]
  },
  {
   "cell_type": "code",
   "execution_count": 5,
   "id": "9437b672-aa5c-439a-83b1-6221abaefbcf",
   "metadata": {},
   "outputs": [],
   "source": [
    "boost = {\"question\": 3.0, \"section\": 0.2}\n",
    "filter_dict = {\"course\": \"data-engineering-zoomcamp\"}\n",
    "results = index.search(\n",
    "    query=query,\n",
    "    boost_dict=boost,\n",
    "    filter_dict=filter_dict,\n",
    "    num_results=3)\n"
   ]
  },
  {
   "cell_type": "code",
   "execution_count": 6,
   "id": "2aaa4a5a-3850-4f95-980b-6f7b4fb36bab",
   "metadata": {},
   "outputs": [],
   "source": [
    "from openai import OpenAI"
   ]
  },
  {
   "cell_type": "code",
   "execution_count": 7,
   "id": "5a231057-c9d6-469a-877e-a74f94f118e2",
   "metadata": {},
   "outputs": [],
   "source": [
    "client = OpenAI()"
   ]
  },
  {
   "cell_type": "markdown",
   "id": "f1b6dd95-f245-4b91-840f-47d145d0f781",
   "metadata": {},
   "source": [
    "Without the knowledge base"
   ]
  },
  {
   "cell_type": "code",
   "execution_count": 8,
   "id": "fc496fb7-f6e2-4c88-a5f2-fe77c5e6f3f3",
   "metadata": {},
   "outputs": [],
   "source": [
    "response = client.chat.completions.create(model=\"gpt-4.1-nano\", \n",
    "                               messages=[{\"role\": \"user\", \"content\": query}]\n",
    "                              )"
   ]
  },
  {
   "cell_type": "code",
   "execution_count": 9,
   "id": "0d765540-172c-47e1-9373-61e35a8bc5f5",
   "metadata": {},
   "outputs": [
    {
     "data": {
      "text/plain": [
       "\"It depends on the course policies and the enrollment deadlines set by the institution. I recommend checking the course's official website or contacting the course administrator or admissions office directly to get accurate information about late enrollment options.\""
      ]
     },
     "execution_count": 9,
     "metadata": {},
     "output_type": "execute_result"
    }
   ],
   "source": [
    "response.choices[0].message.content"
   ]
  },
  {
   "cell_type": "markdown",
   "id": "3a3ced59-57ec-4cf9-85c6-4ebe4fa85894",
   "metadata": {},
   "source": [
    "**Lets add the knowledge base**"
   ]
  },
  {
   "cell_type": "code",
   "execution_count": 10,
   "id": "83aff3ee-2656-4ef9-9b23-5e556aef22f2",
   "metadata": {},
   "outputs": [],
   "source": [
    "prompt_template = \"\"\"\n",
    "You are a course assistant, and your goal is to answer questions of students, where QUESTION is provided below and CONTEXT is provided most of the times. \n",
    "Rules:\n",
    "* Answer the QUESTION based on the CONTEXT.\n",
    "* Use only the facts from the CONTEXT.\n",
    "* If CONTEXT is empty, please let the student know, the information about their query is not there, however you found the following information on the web, by searching the web\n",
    "\n",
    "QUESTION: {question}\n",
    "\n",
    "CONTEXT: {context}\n",
    "\"\"\".strip()"
   ]
  },
  {
   "cell_type": "code",
   "execution_count": 11,
   "id": "68a9f004-f94d-4fc0-a711-ed54748c87dd",
   "metadata": {},
   "outputs": [
    {
     "name": "stdout",
     "output_type": "stream",
     "text": [
      "Course: data-engineering-zoomcamp\n",
      "\n",
      "Section: General course-related questions\n",
      "question: Course - Can I still join the course after the start date?\n",
      "answer: Yes, even if you don't register, you're still eligible to submit the homeworks.\n",
      "Be aware, however, that there will be deadlines for turning in the final projects. So don't leave everything for the last minute.\n",
      "\n",
      "Section: General course-related questions\n",
      "question: Course - Can I follow the course after it finishes?\n",
      "answer: Yes, we will keep all the materials after the course finishes, so you can follow the course at your own pace after it finishes.\n",
      "You can also continue looking at the homeworks and continue preparing for the next cohort. I guess you can also start working on your final capstone project.\n",
      "\n",
      "Section: General course-related questions\n",
      "question: Course - When will the course start?\n",
      "answer: The purpose of this document is to capture frequently asked technical questions\n",
      "The exact day and hour of the course will be 15th Jan 2024 at 17h00. The course will start with the first  “Office Hours'' live.1\n",
      "Subscribe to course public Google Calendar (it works from Desktop only).\n",
      "Register before the course starts using this link.\n",
      "Join the course Telegram channel with announcements.\n",
      "Don’t forget to register in DataTalks.Club's Slack and join the channel.\n",
      "\n",
      "\n"
     ]
    }
   ],
   "source": [
    "context = \"\"\n",
    "for doc in results:\n",
    "    context = context + f\"Section: {doc['section']}\\nquestion: {doc['question']}\\nanswer: {doc['text']}\\n\\n\"\n",
    "    course = doc['course']\n",
    "context = f\"Course: {course}\" + \"\\n\\n\" + context\n",
    "print(context)"
   ]
  },
  {
   "cell_type": "markdown",
   "id": "d3c3b213-e220-4c70-be77-fe3b8e4e1992",
   "metadata": {},
   "source": [
    "**Building the prompt**"
   ]
  },
  {
   "cell_type": "code",
   "execution_count": 12,
   "id": "8fe5f0cc-9ddd-4718-afb6-cfdcb02d9553",
   "metadata": {},
   "outputs": [],
   "source": [
    "prompt = prompt_template.format(question=query, context=context)"
   ]
  },
  {
   "cell_type": "code",
   "execution_count": 13,
   "id": "2e6658dc-c2a8-4f57-b79a-4efc857c63f0",
   "metadata": {},
   "outputs": [
    {
     "name": "stdout",
     "output_type": "stream",
     "text": [
      "You are a course assistant, and your goal is to answer questions of students, where QUESTION is provided below and CONTEXT is provided most of the times. \n",
      "Rules:\n",
      "* Answer the QUESTION based on the CONTEXT.\n",
      "* Use only the facts from the CONTEXT.\n",
      "* If CONTEXT is empty, please let the student know, the information about their query is not there, however you found the following information on the web, by searching the web\n",
      "\n",
      "QUESTION: The course has started, can I still enrol?\n",
      "\n",
      "CONTEXT: Course: data-engineering-zoomcamp\n",
      "\n",
      "Section: General course-related questions\n",
      "question: Course - Can I still join the course after the start date?\n",
      "answer: Yes, even if you don't register, you're still eligible to submit the homeworks.\n",
      "Be aware, however, that there will be deadlines for turning in the final projects. So don't leave everything for the last minute.\n",
      "\n",
      "Section: General course-related questions\n",
      "question: Course - Can I follow the course after it finishes?\n",
      "answer: Yes, we will keep all the materials after the course finishes, so you can follow the course at your own pace after it finishes.\n",
      "You can also continue looking at the homeworks and continue preparing for the next cohort. I guess you can also start working on your final capstone project.\n",
      "\n",
      "Section: General course-related questions\n",
      "question: Course - When will the course start?\n",
      "answer: The purpose of this document is to capture frequently asked technical questions\n",
      "The exact day and hour of the course will be 15th Jan 2024 at 17h00. The course will start with the first  “Office Hours'' live.1\n",
      "Subscribe to course public Google Calendar (it works from Desktop only).\n",
      "Register before the course starts using this link.\n",
      "Join the course Telegram channel with announcements.\n",
      "Don’t forget to register in DataTalks.Club's Slack and join the channel.\n",
      "\n",
      "\n"
     ]
    }
   ],
   "source": [
    "print(prompt)"
   ]
  },
  {
   "cell_type": "markdown",
   "id": "9f2ed104-75fe-41a2-8aaf-ffaefd1ca3c0",
   "metadata": {},
   "source": [
    "**Added the knowledge base and rag with minsearch is completed**"
   ]
  },
  {
   "cell_type": "code",
   "execution_count": 14,
   "id": "1336ef04-cf78-460e-9e0f-9c6621aeb57b",
   "metadata": {},
   "outputs": [
    {
     "data": {
      "text/plain": [
       "\"Yes, you can still join the course after it has started. Even if you register now, you will be eligible to submit the homeworks. Just keep in mind that there will be deadlines for final projects, so it's best not to leave everything for the last minute.\""
      ]
     },
     "execution_count": 14,
     "metadata": {},
     "output_type": "execute_result"
    }
   ],
   "source": [
    "response = client.chat.completions.create(model=\"gpt-4.1-nano\", \n",
    "                               messages=[{\"role\": \"user\", \"content\": prompt}]\n",
    "                              )\n",
    "response.choices[0].message.content"
   ]
  },
  {
   "cell_type": "code",
   "execution_count": 15,
   "id": "39d95ecf-c82d-4d6c-86f7-3598e5f4fd3d",
   "metadata": {},
   "outputs": [],
   "source": [
    "from elasticsearch import Elasticsearch"
   ]
  },
  {
   "cell_type": "code",
   "execution_count": 16,
   "id": "8e6fe904-b494-4a6d-8ab3-46ff5cc0534e",
   "metadata": {},
   "outputs": [],
   "source": [
    "es_client = Elasticsearch(\"http://localhost:9200\")"
   ]
  },
  {
   "cell_type": "code",
   "execution_count": 17,
   "id": "c379a4b9-f7e3-470d-95db-faa6f2d80bd3",
   "metadata": {},
   "outputs": [],
   "source": [
    "index_settings = {\n",
    "    \"settings\": {\n",
    "        \"number_of_shards\": 1,\n",
    "        \"number_of_replicas\": 0\n",
    "    },\n",
    "    \"mappings\": {\n",
    "        \"properties\": {\n",
    "            \"text\": {\"type\": \"text\"},\n",
    "            \"section\": {\"type\": \"text\"},\n",
    "            \"question\": {\"type\": \"text\"},\n",
    "            \"course\": {\"type\": \"keyword\"} \n",
    "        }\n",
    "    }\n",
    "}\n",
    "\n",
    "index_name = \"course-questions\""
   ]
  },
  {
   "cell_type": "code",
   "execution_count": 18,
   "id": "733a150f-49a9-487c-9ebc-a8906bae81b4",
   "metadata": {},
   "outputs": [
    {
     "data": {
      "text/plain": [
       "ObjectApiResponse({'acknowledged': True, 'shards_acknowledged': True, 'index': 'course-questions'})"
      ]
     },
     "execution_count": 18,
     "metadata": {},
     "output_type": "execute_result"
    }
   ],
   "source": [
    "es_client.indices.create(body=index_settings, index=index_name)"
   ]
  },
  {
   "cell_type": "code",
   "execution_count": 19,
   "id": "1923e0cc-a6f5-4290-a954-c6cb13602048",
   "metadata": {},
   "outputs": [
    {
     "name": "stderr",
     "output_type": "stream",
     "text": [
      "/Users/bajajn/gen-ai/llm-zoomcamp/00-search-engine/.venv/lib/python3.12/site-packages/tqdm/auto.py:21: TqdmWarning: IProgress not found. Please update jupyter and ipywidgets. See https://ipywidgets.readthedocs.io/en/stable/user_install.html\n",
      "  from .autonotebook import tqdm as notebook_tqdm\n"
     ]
    }
   ],
   "source": [
    "from tqdm.auto import tqdm"
   ]
  },
  {
   "cell_type": "code",
   "execution_count": 20,
   "id": "8aecbb9c-c825-4d30-816b-000264297387",
   "metadata": {},
   "outputs": [
    {
     "name": "stderr",
     "output_type": "stream",
     "text": [
      "100%|████████████████████████████████████████████████| 1034/1034 [00:02<00:00, 430.09it/s]\n"
     ]
    }
   ],
   "source": [
    "for doc in tqdm(documents):\n",
    "    es_client.index(document=doc, index=index_name)"
   ]
  },
  {
   "cell_type": "code",
   "execution_count": 21,
   "id": "2c5d941e-47c9-4371-98cb-161a529d86cb",
   "metadata": {},
   "outputs": [],
   "source": [
    "search_query = {\n",
    "    \"size\": 5,\n",
    "    \"query\": {\n",
    "        \"bool\": {\n",
    "            \"must\": {\n",
    "                \"multi_match\": {\n",
    "                    \"query\": query,\n",
    "                    \"fields\": [\"question^3\", \"text\", \"section^0.3\"],\n",
    "                    \"type\": \"best_fields\"\n",
    "                }\n",
    "            },\n",
    "            \"filter\": {\n",
    "                \"term\": {\n",
    "                    \"course\": \"data-engineering-zoomcamp\"\n",
    "                }\n",
    "            }\n",
    "        }\n",
    "    }\n",
    "}"
   ]
  },
  {
   "cell_type": "code",
   "execution_count": 22,
   "id": "dc923890-8bb6-4d03-a3ca-5c0a5e2dbfb4",
   "metadata": {},
   "outputs": [],
   "source": [
    "results = es_client.search(index=index_name, body=search_query)"
   ]
  },
  {
   "cell_type": "code",
   "execution_count": 23,
   "id": "a54557bd-3b0b-42f1-a220-2053901aa720",
   "metadata": {},
   "outputs": [],
   "source": [
    "extracted_results = []\n",
    "for res in results['hits']['hits']:\n",
    "    extracted_results.append(res['_source'])"
   ]
  },
  {
   "cell_type": "code",
   "execution_count": 24,
   "id": "8c8c2194-302c-450f-9604-4149468f9d7d",
   "metadata": {},
   "outputs": [],
   "source": [
    "context = \"\"\n",
    "for doc in extracted_results:\n",
    "    context = context + f\"Section: {doc['section']}\\nquestion: {doc['question']}\\nanswer: {doc['text']}\\n\\n\"\n",
    "    course = doc['course']\n",
    "context = f\"Course: {course}\" + \"\\n\\n\" + context\n",
    "prompt = prompt_template.format(question=query, context=context)"
   ]
  },
  {
   "cell_type": "code",
   "execution_count": 25,
   "id": "6ed16ac3-a56d-47d3-b283-7c102224bb28",
   "metadata": {
    "scrolled": true
   },
   "outputs": [
    {
     "data": {
      "text/plain": [
       "\"Yes, you can still enroll in the course even after it has started. However, if you don't register, you are still eligible to submit the homeworks. Keep in mind that there will be deadlines for turning in the final projects.\""
      ]
     },
     "execution_count": 25,
     "metadata": {},
     "output_type": "execute_result"
    }
   ],
   "source": [
    "response = client.chat.completions.create(model=\"gpt-4.1-nano\", \n",
    "                               messages=[{\"role\": \"user\", \"content\": prompt}]\n",
    "                              )\n",
    "response.choices[0].message.content"
   ]
  }
 ],
 "metadata": {
  "kernelspec": {
   "display_name": "Python 3 (ipykernel)",
   "language": "python",
   "name": "python3"
  },
  "language_info": {
   "codemirror_mode": {
    "name": "ipython",
    "version": 3
   },
   "file_extension": ".py",
   "mimetype": "text/x-python",
   "name": "python",
   "nbconvert_exporter": "python",
   "pygments_lexer": "ipython3",
   "version": "3.12.9"
  }
 },
 "nbformat": 4,
 "nbformat_minor": 5
}
